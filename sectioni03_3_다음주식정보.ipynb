{
  "nbformat": 4,
  "nbformat_minor": 0,
  "metadata": {
    "colab": {
      "name": "sectioni03-3 다음주식정보.ipynb",
      "provenance": [],
      "collapsed_sections": [],
      "authorship_tag": "ABX9TyPiYUnPfLBlrC/EuScwed6c",
      "include_colab_link": true
    },
    "kernelspec": {
      "name": "python3",
      "display_name": "Python 3"
    },
    "language_info": {
      "name": "python"
    }
  },
  "cells": [
    {
      "cell_type": "markdown",
      "metadata": {
        "id": "view-in-github",
        "colab_type": "text"
      },
      "source": [
        "<a href=\"https://colab.research.google.com/github/YimsuSon/WebCrawlling/blob/main/sectioni03_3_%EB%8B%A4%EC%9D%8C%EC%A3%BC%EC%8B%9D%EC%A0%95%EB%B3%B4.ipynb\" target=\"_parent\"><img src=\"https://colab.research.google.com/assets/colab-badge.svg\" alt=\"Open In Colab\"/></a>"
      ]
    },
    {
      "cell_type": "code",
      "metadata": {
        "colab": {
          "base_uri": "https://localhost:8080/"
        },
        "id": "LXglQAv-2GyQ",
        "outputId": "7a63a5a8-cbf7-4899-d271-41bc50d5fbac"
      },
      "source": [
        "pip install fake-useragent"
      ],
      "execution_count": 4,
      "outputs": [
        {
          "output_type": "stream",
          "text": [
            "Requirement already satisfied: fake-useragent in /usr/local/lib/python3.7/dist-packages (0.1.11)\n"
          ],
          "name": "stdout"
        }
      ]
    },
    {
      "cell_type": "code",
      "metadata": {
        "colab": {
          "base_uri": "https://localhost:8080/"
        },
        "id": "r2fIwI-32aTe",
        "outputId": "fae72b68-eff1-4a7e-db2a-fcb596f92108"
      },
      "source": [
        "pip install lxml"
      ],
      "execution_count": 7,
      "outputs": [
        {
          "output_type": "stream",
          "text": [
            "Requirement already satisfied: lxml in /usr/local/lib/python3.7/dist-packages (4.2.6)\n"
          ],
          "name": "stdout"
        }
      ]
    },
    {
      "cell_type": "code",
      "metadata": {
        "colab": {
          "base_uri": "https://localhost:8080/"
        },
        "id": "tu6e2bBp2ueI",
        "outputId": "42725cf4-22c4-4691-d255-5a103339c9e9"
      },
      "source": [
        "pip install requests\n"
      ],
      "execution_count": 9,
      "outputs": [
        {
          "output_type": "stream",
          "text": [
            "Requirement already satisfied: requests in /usr/local/lib/python3.7/dist-packages (2.23.0)\n",
            "Requirement already satisfied: idna<3,>=2.5 in /usr/local/lib/python3.7/dist-packages (from requests) (2.10)\n",
            "Requirement already satisfied: certifi>=2017.4.17 in /usr/local/lib/python3.7/dist-packages (from requests) (2021.5.30)\n",
            "Requirement already satisfied: chardet<4,>=3.0.2 in /usr/local/lib/python3.7/dist-packages (from requests) (3.0.4)\n",
            "Requirement already satisfied: urllib3!=1.25.0,!=1.25.1,<1.26,>=1.21.1 in /usr/local/lib/python3.7/dist-packages (from requests) (1.24.3)\n"
          ],
          "name": "stdout"
        }
      ]
    },
    {
      "cell_type": "code",
      "metadata": {
        "colab": {
          "base_uri": "https://localhost:8080/"
        },
        "id": "sqjmtRrL2y2k",
        "outputId": "3d74f2e6-37fe-4952-b7b2-83edbe66a7f6"
      },
      "source": [
        "pip install cssselect"
      ],
      "execution_count": 10,
      "outputs": [
        {
          "output_type": "stream",
          "text": [
            "Collecting cssselect\n",
            "  Downloading https://files.pythonhosted.org/packages/3b/d4/3b5c17f00cce85b9a1e6f91096e1cc8e8ede2e1be8e96b87ce1ed09e92c5/cssselect-1.1.0-py2.py3-none-any.whl\n",
            "Installing collected packages: cssselect\n",
            "Successfully installed cssselect-1.1.0\n"
          ],
          "name": "stdout"
        }
      ]
    },
    {
      "cell_type": "code",
      "metadata": {
        "id": "wXmjCsn_21fa"
      },
      "source": [
        "# 다음 주식 정보 가져오기 "
      ],
      "execution_count": 11,
      "outputs": []
    },
    {
      "cell_type": "code",
      "metadata": {
        "id": "nnvVhZjs251e"
      },
      "source": [
        "import json\n",
        "import urllib.request as req\n",
        "from fake_useragent import UserAgent"
      ],
      "execution_count": 13,
      "outputs": []
    },
    {
      "cell_type": "code",
      "metadata": {
        "colab": {
          "base_uri": "https://localhost:8080/"
        },
        "id": "QsZv27hh269c",
        "outputId": "bdd60775-3e14-4334-8544-76251ab9b798"
      },
      "source": [
        "ua = UserAgent()\n",
        "print(ua.ie)\n",
        "print(ua.msie)\n",
        "print(ua.chrome)\n",
        "print(ua.safari)\n",
        "\n",
        "print(\"---------------\")\n",
        "for _ in range(0,3):\n",
        "  print(ua.random)"
      ],
      "execution_count": 18,
      "outputs": [
        {
          "output_type": "stream",
          "text": [
            "Mozilla/5.0 (compatible; MSIE 9.0; Windows NT 7.1; Trident/5.0)\n",
            "Mozilla/5.0 (compatible; MSIE 9.0; Windows NT 6.1; Trident/4.0; GTB7.4; InfoPath.1; SV1; .NET CLR 2.8.52393; WOW64; en-US)\n",
            "Mozilla/5.0 (X11; Linux x86_64) AppleWebKit/537.36 (KHTML, like Gecko) Chrome/41.0.2227.0 Safari/537.36\n",
            "Mozilla/5.0 (Macintosh; U; Intel Mac OS X 10_6_6; fr-fr) AppleWebKit/533.20.25 (KHTML, like Gecko) Version/5.0.4 Safari/533.20.27\n",
            "---------------\n",
            "Mozilla/5.0 (X11; CrOS i686 3912.101.0) AppleWebKit/537.36 (KHTML, like Gecko) Chrome/27.0.1453.116 Safari/537.36\n",
            "Mozilla/5.0 (X11; Linux i586; rv:31.0) Gecko/20100101 Firefox/31.0\n",
            "Mozilla/5.0 (Windows NT 6.1; WOW64) AppleWebKit/537.17 (KHTML, like Gecko) Chrome/24.0.1312.60 Safari/537.17\n"
          ],
          "name": "stdout"
        }
      ]
    },
    {
      "cell_type": "code",
      "metadata": {
        "colab": {
          "base_uri": "https://localhost:8080/"
        },
        "id": "MIYu_2-q3N0h",
        "outputId": "4de70568-d10e-48a9-ca08-729fab7c9f45"
      },
      "source": [
        "# 헤더 정보\n",
        "headers = {\n",
        " 'User-agent': ua.ie,\n",
        " 'referer': 'https://finance.daum.net/'   \n",
        "}\n",
        "\n",
        "# 다음 주식 요청 url\n",
        "url = \"https://finance.daum.net/api/search/ranks?limit=10\"\n",
        "\n",
        "\n",
        "# 요청 \n",
        "res = req.urlopen(req.Request(url,headers=headers)).read().decode('UTF-8')\n",
        "\n",
        "\n",
        "# 응답 데이터 확인 (Json Data)\n",
        "print('res',res)\n",
        "\n",
        "# 응답 데이터 str -> json 변환 및 data 값 출력 \n",
        "rank_json = json.loads(res)['data']\n",
        "\n",
        "# 중간 확인 \n",
        "print('중간 확인 : ' , rank_json, '\\n')\n",
        "\n",
        "for elm in rank_json:\n",
        "  print(type(elm))\n",
        "  print('순위 : {}, 금액 : {} , 회사명 : {}'.format(elm['rank'],elm.get('tradePrice'), elm['name']))\n",
        "\n",
        "  # 파일 (scv, 엑셀 , txt ) 저장 \n",
        "\n",
        "\n"
      ],
      "execution_count": 28,
      "outputs": [
        {
          "output_type": "stream",
          "text": [
            "res {\"data\":[{\"rank\":1,\"rankChange\":0,\"symbolCode\":\"A035720\",\"code\":\"KR7035720002\",\"name\":\"카카오\",\"tradePrice\":163500,\"change\":\"FALL\",\"changePrice\":6000,\"changeRate\":0.0353982301,\"chartSlideImage\":null,\"isNew\":false},{\"rank\":2,\"rankChange\":0,\"symbolCode\":\"A011000\",\"code\":\"KR7011000007\",\"name\":\"진원생명과학\",\"tradePrice\":40750,\"change\":\"FALL\",\"changePrice\":2500,\"changeRate\":0.0578034682,\"chartSlideImage\":null,\"isNew\":false},{\"rank\":3,\"rankChange\":0,\"symbolCode\":\"A205470\",\"code\":\"KR7205470008\",\"name\":\"휴마시스\",\"tradePrice\":17600,\"change\":\"RISE\",\"changePrice\":700,\"changeRate\":0.0414201183,\"chartSlideImage\":null,\"isNew\":false},{\"rank\":4,\"rankChange\":0,\"symbolCode\":\"A005930\",\"code\":\"KR7005930003\",\"name\":\"삼성전자\",\"tradePrice\":81000,\"change\":\"RISE\",\"changePrice\":900,\"changeRate\":0.0112359551,\"chartSlideImage\":null,\"isNew\":false},{\"rank\":5,\"rankChange\":1,\"symbolCode\":\"A096530\",\"code\":\"KR7096530001\",\"name\":\"씨젠\",\"tradePrice\":85500,\"change\":\"RISE\",\"changePrice\":700,\"changeRate\":0.008254717,\"chartSlideImage\":null,\"isNew\":false},{\"rank\":6,\"rankChange\":-1,\"symbolCode\":\"A001440\",\"code\":\"KR7001440007\",\"name\":\"대한전선\",\"tradePrice\":3115,\"change\":\"FALL\",\"changePrice\":90,\"changeRate\":0.0280811232,\"chartSlideImage\":null,\"isNew\":false},{\"rank\":7,\"rankChange\":2,\"symbolCode\":\"A000270\",\"code\":\"KR7000270009\",\"name\":\"기아\",\"tradePrice\":91900,\"change\":\"RISE\",\"changePrice\":1700,\"changeRate\":0.0188470067,\"chartSlideImage\":null,\"isNew\":false},{\"rank\":8,\"rankChange\":-1,\"symbolCode\":\"A011200\",\"code\":\"KR7011200003\",\"name\":\"HMM\",\"tradePrice\":42100,\"change\":\"FALL\",\"changePrice\":600,\"changeRate\":0.0140515222,\"chartSlideImage\":null,\"isNew\":false},{\"rank\":9,\"rankChange\":1,\"symbolCode\":\"A034020\",\"code\":\"KR7034020008\",\"name\":\"두산중공업\",\"tradePrice\":25300,\"change\":\"FALL\",\"changePrice\":700,\"changeRate\":0.0269230769,\"chartSlideImage\":null,\"isNew\":false},{\"rank\":10,\"rankChange\":-2,\"symbolCode\":\"A035420\",\"code\":\"KR7035420009\",\"name\":\"NAVER\",\"tradePrice\":419500,\"change\":\"FALL\",\"changePrice\":4000,\"changeRate\":0.0094451004,\"chartSlideImage\":null,\"isNew\":false}]}\n",
            "중간 확인 :  [{'rank': 1, 'rankChange': 0, 'symbolCode': 'A035720', 'code': 'KR7035720002', 'name': '카카오', 'tradePrice': 163500, 'change': 'FALL', 'changePrice': 6000, 'changeRate': 0.0353982301, 'chartSlideImage': None, 'isNew': False}, {'rank': 2, 'rankChange': 0, 'symbolCode': 'A011000', 'code': 'KR7011000007', 'name': '진원생명과학', 'tradePrice': 40750, 'change': 'FALL', 'changePrice': 2500, 'changeRate': 0.0578034682, 'chartSlideImage': None, 'isNew': False}, {'rank': 3, 'rankChange': 0, 'symbolCode': 'A205470', 'code': 'KR7205470008', 'name': '휴마시스', 'tradePrice': 17600, 'change': 'RISE', 'changePrice': 700, 'changeRate': 0.0414201183, 'chartSlideImage': None, 'isNew': False}, {'rank': 4, 'rankChange': 0, 'symbolCode': 'A005930', 'code': 'KR7005930003', 'name': '삼성전자', 'tradePrice': 81000, 'change': 'RISE', 'changePrice': 900, 'changeRate': 0.0112359551, 'chartSlideImage': None, 'isNew': False}, {'rank': 5, 'rankChange': 1, 'symbolCode': 'A096530', 'code': 'KR7096530001', 'name': '씨젠', 'tradePrice': 85500, 'change': 'RISE', 'changePrice': 700, 'changeRate': 0.008254717, 'chartSlideImage': None, 'isNew': False}, {'rank': 6, 'rankChange': -1, 'symbolCode': 'A001440', 'code': 'KR7001440007', 'name': '대한전선', 'tradePrice': 3115, 'change': 'FALL', 'changePrice': 90, 'changeRate': 0.0280811232, 'chartSlideImage': None, 'isNew': False}, {'rank': 7, 'rankChange': 2, 'symbolCode': 'A000270', 'code': 'KR7000270009', 'name': '기아', 'tradePrice': 91900, 'change': 'RISE', 'changePrice': 1700, 'changeRate': 0.0188470067, 'chartSlideImage': None, 'isNew': False}, {'rank': 8, 'rankChange': -1, 'symbolCode': 'A011200', 'code': 'KR7011200003', 'name': 'HMM', 'tradePrice': 42100, 'change': 'FALL', 'changePrice': 600, 'changeRate': 0.0140515222, 'chartSlideImage': None, 'isNew': False}, {'rank': 9, 'rankChange': 1, 'symbolCode': 'A034020', 'code': 'KR7034020008', 'name': '두산중공업', 'tradePrice': 25300, 'change': 'FALL', 'changePrice': 700, 'changeRate': 0.0269230769, 'chartSlideImage': None, 'isNew': False}, {'rank': 10, 'rankChange': -2, 'symbolCode': 'A035420', 'code': 'KR7035420009', 'name': 'NAVER', 'tradePrice': 419500, 'change': 'FALL', 'changePrice': 4000, 'changeRate': 0.0094451004, 'chartSlideImage': None, 'isNew': False}] \n",
            "\n",
            "<class 'dict'>\n",
            "순위 : 1, 금액 : 163500 , 회사명 : 카카오\n",
            "<class 'dict'>\n",
            "순위 : 2, 금액 : 40750 , 회사명 : 진원생명과학\n",
            "<class 'dict'>\n",
            "순위 : 3, 금액 : 17600 , 회사명 : 휴마시스\n",
            "<class 'dict'>\n",
            "순위 : 4, 금액 : 81000 , 회사명 : 삼성전자\n",
            "<class 'dict'>\n",
            "순위 : 5, 금액 : 85500 , 회사명 : 씨젠\n",
            "<class 'dict'>\n",
            "순위 : 6, 금액 : 3115 , 회사명 : 대한전선\n",
            "<class 'dict'>\n",
            "순위 : 7, 금액 : 91900 , 회사명 : 기아\n",
            "<class 'dict'>\n",
            "순위 : 8, 금액 : 42100 , 회사명 : HMM\n",
            "<class 'dict'>\n",
            "순위 : 9, 금액 : 25300 , 회사명 : 두산중공업\n",
            "<class 'dict'>\n",
            "순위 : 10, 금액 : 419500 , 회사명 : NAVER\n"
          ],
          "name": "stdout"
        }
      ]
    },
    {
      "cell_type": "code",
      "metadata": {
        "id": "Q0gqX7CO6Sy2"
      },
      "source": [
        ""
      ],
      "execution_count": null,
      "outputs": []
    }
  ]
}