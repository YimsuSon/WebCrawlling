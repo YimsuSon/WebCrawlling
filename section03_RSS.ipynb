{
  "nbformat": 4,
  "nbformat_minor": 0,
  "metadata": {
    "colab": {
      "name": "section03-RSS.ipynb",
      "provenance": [],
      "authorship_tag": "ABX9TyN9iMe0Lt3jfSWKN41bVpny",
      "include_colab_link": true
    },
    "kernelspec": {
      "name": "python3",
      "display_name": "Python 3"
    },
    "language_info": {
      "name": "python"
    }
  },
  "cells": [
    {
      "cell_type": "markdown",
      "metadata": {
        "id": "view-in-github",
        "colab_type": "text"
      },
      "source": [
        "<a href=\"https://colab.research.google.com/github/YimsuSon/WebCrawlling/blob/main/section03_RSS.ipynb\" target=\"_parent\"><img src=\"https://colab.research.google.com/assets/colab-badge.svg\" alt=\"Open In Colab\"/></a>"
      ]
    },
    {
      "cell_type": "code",
      "metadata": {
        "id": "dURZF3wY0hZ6"
      },
      "source": [
        "# Section 03-1 \n",
        "# 기본 스크랩핑 실습\n",
        "# Get 방식 데이터 통신(1)\n"
      ],
      "execution_count": null,
      "outputs": []
    },
    {
      "cell_type": "code",
      "metadata": {
        "id": "F-OCMmvS0pWb"
      },
      "source": [
        "import urllib.request\n",
        "from urllib.parse import urlparse"
      ],
      "execution_count": null,
      "outputs": []
    },
    {
      "cell_type": "code",
      "metadata": {
        "id": "ZSmQjp-c0xgn"
      },
      "source": [
        "# 기본 요청1 ( encar)\n",
        "\n",
        "url = \"http://www.encar.com\"\n",
        "\n",
        "mem = urllib.request.urlopen(url)\n"
      ],
      "execution_count": null,
      "outputs": []
    },
    {
      "cell_type": "code",
      "metadata": {
        "colab": {
          "base_uri": "https://localhost:8080/"
        },
        "id": "XXwNT3tA1JGJ",
        "outputId": "d449921f-1a68-4dd4-b70d-3ec20cece308"
      },
      "source": [
        "# 여러 정보 출력 \n",
        "\n",
        "print(\"type : {} \".format(type(mem)))\n",
        "print(\"geturl : {}\".format(mem.geturl()))\n",
        "print(\"status : {}\".format(mem.status))\n",
        "print(\"Headers : {}\".format(mem.getheaders()))\n",
        "print(\"getCode : {}\".format(mem.getcode()))\n",
        "#print(\"read : {}\".format(mem.read(100).decode('utf-8')))\n",
        "print(\"parse : {}\".format(urlparse('http://www.encar.co.kr?test=test')))\n",
        "\n",
        "print(\"parse : {}\".format(urlparse('http://www.encar.co.kr?id=test&pw=1111').query))"
      ],
      "execution_count": null,
      "outputs": [
        {
          "output_type": "stream",
          "text": [
            "type : <class 'http.client.HTTPResponse'> \n",
            "geturl : http://www.encar.com/index.do\n",
            "status : 200\n",
            "Headers : [('Date', 'Wed, 23 Jun 2021 07:45:17 GMT'), ('Set-Cookie', 'WMONID=N6bfdiBVxMx; Expires=Thu, 23-Jun-2022 16:45:17 GMT; Path=/'), ('Content-Type', 'text/html; charset=EUC-KR'), ('Connection', 'close'), ('Content-Language', 'ko-KR'), ('Set-Cookie', 'JSESSIONID=rgOiT17DCg59bHDbz3eDkoBwlMB71U3q2yIDvkOwn1mJ9fQCJBNYVP2TtALg5l45.encarwas3_servlet_engine3;Path=/'), ('P3P', \"CP='CAO PSA CONi OTR OUR DEM ONL'\"), ('X-UA-Compatible', 'IE=Edge'), ('Transfer-Encoding', 'chunked')]\n",
            "getCode : 200\n",
            "parse : ParseResult(scheme='http', netloc='www.encar.co.kr', path='', params='', query='test=test', fragment='')\n",
            "parse : id=test&pw=1111\n"
          ],
          "name": "stdout"
        }
      ]
    },
    {
      "cell_type": "code",
      "metadata": {
        "colab": {
          "base_uri": "https://localhost:8080/"
        },
        "id": "uag2OmJw1Q2o",
        "outputId": "cb244bc0-5e61-4177-f856-8f24ce045e69"
      },
      "source": [
        "# 기본요청 (ipify)\n",
        "\n",
        "API = \"https://api.ipify.org\"\n",
        "\n",
        "# Get 방식 Parameter \n",
        "\n",
        "values = {\n",
        "    #'format':'json'\n",
        "    'format':'jsonp'\n",
        "    #'format':'text'\n",
        "}\n",
        "print('before param : {}'.format(values))\n",
        "params = urllib.parse.urlencode(values)\n",
        "print('after param : {}'.format(params))\n",
        "\n",
        "# 요청 url 생성 \n",
        "URL = API + \"?\" + params \n",
        "print(\"요청 URL = {}\".format(URL))\n",
        "\n",
        "# 수신 데이터 읽기 \n",
        "data = urllib.request.urlopen(URL).read() \n",
        "\n",
        "# 수신 데이터 디코딩 \n",
        "text = data.decode('UTF-8')\n",
        "print('response : {}'.format(text))"
      ],
      "execution_count": null,
      "outputs": [
        {
          "output_type": "stream",
          "text": [
            "before param : {'format': 'jsonp'}\n",
            "after param : format=jsonp\n",
            "요청 URL = https://api.ipify.org?format=jsonp\n",
            "response : callback({\"ip\":\"35.197.114.197\"});\n"
          ],
          "name": "stdout"
        }
      ]
    },
    {
      "cell_type": "code",
      "metadata": {
        "id": "FbRbHK_K3u8l"
      },
      "source": [
        ""
      ],
      "execution_count": null,
      "outputs": []
    },
    {
      "cell_type": "code",
      "metadata": {
        "id": "1F9Ku_4l5nXk"
      },
      "source": [
        ""
      ],
      "execution_count": null,
      "outputs": []
    },
    {
      "cell_type": "code",
      "metadata": {
        "id": "-65ROR-L5nUE"
      },
      "source": [
        ""
      ],
      "execution_count": null,
      "outputs": []
    },
    {
      "cell_type": "code",
      "metadata": {
        "id": "y_78Na2O5nQl"
      },
      "source": [
        "# Section 03.-2 \n",
        "# 기본 스크래핑 실습 \n",
        "# Get 방식 데이터 통신(2) - RSS "
      ],
      "execution_count": null,
      "outputs": []
    },
    {
      "cell_type": "code",
      "metadata": {
        "id": "p0wwk17J59YR"
      },
      "source": [
        "import urllib.request\n",
        "import urllib.parse\n",
        "\n",
        "# 행정 안전부 : https://www.mois.go.kr/\n",
        "# 행정 안전부 RSS API URL \n",
        "URL : https://www.mois.go.kr/gpms/view/jsp/rss/rss.jsp?ctxCd=1012"
      ],
      "execution_count": null,
      "outputs": []
    }
  ]
}